{
 "cells": [
  {
   "cell_type": "code",
   "execution_count": 7,
   "metadata": {},
   "outputs": [],
   "source": [
    "import os\n",
    "import glob\n",
    "import numpy as np\n",
    "import matplotlib.pyplot as plt\n",
    "from astropy.io import fits\n",
    "from astropy.stats import sigma_clipped_stats\n",
    "from astropy.time import Time\n",
    "from astropy.wcs import WCS\n",
    "from astropy.coordinates import SkyCoord\n",
    "from photutils import aperture_photometry, CircularAperture, CircularAnnulus\n",
    "\n"
   ]
  },
  {
   "cell_type": "code",
   "execution_count": 8,
   "metadata": {},
   "outputs": [],
   "source": [
    "# Replace with the path to your FITS files directory\n",
    "fits_directory = '/Users/wendymendoza/Desktop/Yan/2023-03-16/lights'"
   ]
  },
  {
   "cell_type": "code",
   "execution_count": 17,
   "metadata": {},
   "outputs": [],
   "source": [
    "# Coordinates of your target object and reference stars\n",
    "target_coords = (1827.195589194555, 2107.5618332541076)\n",
    "reference_coords_list = [(2269.9661, 1681.03206), (2070.6069, 1203.1359), (1972.93192, 2264.29304), (2052.0733, 2598.2297), (1872.93319, 2264.2930)]"
   ]
  },
  {
   "cell_type": "code",
   "execution_count": 14,
   "metadata": {},
   "outputs": [],
   "source": [
    "# Get a list of FITS files\n",
    "fits_files = sorted(glob.glob(os.path.join(fits_directory, '*.fits')))\n"
   ]
  },
  {
   "cell_type": "code",
   "execution_count": 15,
   "metadata": {},
   "outputs": [],
   "source": [
    "# Aperture and annulus radii for photometry\n",
    "aperture_radius = 16\n",
    "annulus_inner_radius = 28\n",
    "annulus_outer_radius = 41 \n",
    "\n",
    "time_array = []\n",
    "flux_ratio_array = []"
   ]
  },
  {
   "cell_type": "code",
   "execution_count": 16,
   "metadata": {},
   "outputs": [
    {
     "ename": "ValueError",
     "evalue": "min() arg is an empty sequence",
     "output_type": "error",
     "traceback": [
      "\u001b[0;31m---------------------------------------------------------------------------\u001b[0m",
      "\u001b[0;31mValueError\u001b[0m                                Traceback (most recent call last)",
      "\u001b[1;32m/Users/wendymendoza/Desktop/photometry.ipynb Cell 6\u001b[0m in \u001b[0;36m<cell line: 48>\u001b[0;34m()\u001b[0m\n\u001b[1;32m     <a href='vscode-notebook-cell:/Users/wendymendoza/Desktop/photometry.ipynb#ch0000005?line=44'>45</a>\u001b[0m         flux_ratio_array\u001b[39m.\u001b[39mappend(avg_mag_diff)\n\u001b[1;32m     <a href='vscode-notebook-cell:/Users/wendymendoza/Desktop/photometry.ipynb#ch0000005?line=46'>47</a>\u001b[0m \u001b[39m# Normalize the time array\u001b[39;00m\n\u001b[0;32m---> <a href='vscode-notebook-cell:/Users/wendymendoza/Desktop/photometry.ipynb#ch0000005?line=47'>48</a>\u001b[0m time_array \u001b[39m=\u001b[39m np\u001b[39m.\u001b[39marray(time_array) \u001b[39m-\u001b[39m \u001b[39mmin\u001b[39;49m(time_array)\n\u001b[1;32m     <a href='vscode-notebook-cell:/Users/wendymendoza/Desktop/photometry.ipynb#ch0000005?line=49'>50</a>\u001b[0m \u001b[39m# Plot the light curve\u001b[39;00m\n\u001b[1;32m     <a href='vscode-notebook-cell:/Users/wendymendoza/Desktop/photometry.ipynb#ch0000005?line=50'>51</a>\u001b[0m plt\u001b[39m.\u001b[39mfigure()\n",
      "\u001b[0;31mValueError\u001b[0m: min() arg is an empty sequence"
     ]
    }
   ],
   "source": [
    "for file in fits_files:\n",
    "    with fits.open(file) as hdulist:\n",
    "        header = hdulist[0].header\n",
    "        data = hdulist[0].data.astype(float)\n",
    "\n",
    "        # Subtract the background\n",
    "        mean, median, std = sigma_clipped_stats(data, sigma=3.0)\n",
    "        data -= median\n",
    "\n",
    "        # Define the target apertures and annuli\n",
    "        target_aperture = CircularAperture(target_coords, r=aperture_radius)\n",
    "        target_annulus = CircularAnnulus(target_coords, r_in=annulus_inner_radius, r_out=annulus_outer_radius)\n",
    "\n",
    "        # Perform aperture photometry for the target object\n",
    "        target_phot = aperture_photometry(data, [target_aperture, target_annulus])\n",
    "\n",
    "        # Calculate the background-subtracted flux for the target object\n",
    "        target_bkg_mean = target_phot['aperture_sum_1'] / target_annulus.area\n",
    "        target_flux = target_phot['aperture_sum_0'] - target_bkg_mean * target_aperture.area\n",
    "\n",
    "        # Calculate the magnitude difference for each reference star\n",
    "        mag_diff_list = []\n",
    "\n",
    "        for ref_coords in reference_coords_list:\n",
    "            # Define the reference star apertures and annuli\n",
    "            ref_aperture = CircularAperture(ref_coords, r=aperture_radius)\n",
    "            ref_annulus = CircularAnnulus(ref_coords, r_in=annulus_inner_radius, r_out=annulus_outer_radius)\n",
    "\n",
    "            # Perform aperture photometry for the reference star\n",
    "            ref_phot = aperture_photometry(data, [ref_aperture, ref_annulus])\n",
    "\n",
    "            # Calculate the background-subtracted flux for the reference star\n",
    "            ref_bkg_mean = ref_phot['aperture_sum_1'] / ref_annulus.area\n",
    "            ref_flux = ref_phot['aperture_sum_0'] - ref_bkg_mean * ref_aperture.area\n",
    "\n",
    "            # Calculate the magnitude difference\n",
    "            mag_diff = -2.5 * np.log10(target_flux / ref_flux)\n",
    "            mag_diff_list.append(mag_diff)\n",
    "\n",
    "        # Calculate the average magnitude difference\n",
    "        avg_mag_diff = np.mean(mag_diff_list)\n",
    "\n",
    "        # Store the time and average magnitude difference\n",
    "        time_array.append(Time(header['DATE-OBS']).jd)\n",
    "        flux_ratio_array.append(avg_mag_diff)\n",
    "\n",
    "# Normalize the time array\n",
    "time_array = np.array(time_array) - min(time_array)\n",
    "\n",
    "# Plot the light curve\n",
    "plt.figure()\n",
    "plt.plot(time_array, flux_ratio_array, 'o') \n",
    "plt.xlabel('Time (JD - JD_min)')\n",
    "plt.ylabel('Magnitude Difference')\n",
    "plt.gca().invert_yaxis()\n",
    "plt.show()"
   ]
  }
 ],
 "metadata": {
  "kernelspec": {
   "display_name": "Python 3.10.5 64-bit",
   "language": "python",
   "name": "python3"
  },
  "language_info": {
   "codemirror_mode": {
    "name": "ipython",
    "version": 3
   },
   "file_extension": ".py",
   "mimetype": "text/x-python",
   "name": "python",
   "nbconvert_exporter": "python",
   "pygments_lexer": "ipython3",
   "version": "3.10.5"
  },
  "orig_nbformat": 4,
  "vscode": {
   "interpreter": {
    "hash": "aee8b7b246df8f9039afb4144a1f6fd8d2ca17a180786b69acc140d282b71a49"
   }
  }
 },
 "nbformat": 4,
 "nbformat_minor": 2
}
